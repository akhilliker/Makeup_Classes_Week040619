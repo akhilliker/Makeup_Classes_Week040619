{
 "cells": [
  {
   "cell_type": "markdown",
   "metadata": {},
   "source": [
    "Use Pymongo to create a fruits_db database, and a fruits collection.\n",
    "Into that collection, insert two documents of fruit shipments received by your supermarket. They should contain the following information: vendor name, type of fruit, quantity received, and ripeness rating (1 for unripe, 2 for ripe, 3 for over-ripe).\n",
    "Build a Python script that asks the user for the above information, then inserts a document into a MongoDB database.\n",
    "BONUS:\n",
    "It would be good to modify the app so that when the record is entered, the current date and time is automatically inserted into the document."
   ]
  },
  {
   "cell_type": "code",
   "execution_count": 1,
   "metadata": {},
   "outputs": [],
   "source": [
    "# Module used to connect Python with MongoDb\n",
    "import pymongo\n",
    "\n",
    "# The default port used by MongoDB is 27017\n",
    "# https://docs.mongodb.com/manual/reference/default-mongodb-port/\n",
    "conn = 'mongodb://localhost:27017'\n",
    "client = pymongo.MongoClient(conn)\n",
    "\n",
    "# Define the 'classDB' database in Mongo\n",
    "db = client.classDB\n",
    "\n",
    "# Query all students\n",
    "# Here, db.students refers to the collection 'classroom '\n",
    "fruits = db.fruits.find()\n"
   ]
  },
  {
   "cell_type": "code",
   "execution_count": 2,
   "metadata": {},
   "outputs": [
    {
     "name": "stdout",
     "output_type": "stream",
     "text": [
      "<pymongo.cursor.Cursor object at 0x10349ffd0>\n"
     ]
    }
   ],
   "source": [
    "print(fruits)"
   ]
  },
  {
   "cell_type": "code",
   "execution_count": 10,
   "metadata": {},
   "outputs": [
    {
     "data": {
      "text/plain": [
       "<pymongo.results.InsertOneResult at 0x11043d588>"
      ]
     },
     "execution_count": 10,
     "metadata": {},
     "output_type": "execute_result"
    }
   ],
   "source": [
    "# Insert a document into the 'fruits' collection\n",
    "db.fruits.insert_one(\n",
    "    {\n",
    "        'vendor name': 'Cedarwood Farms',\n",
    "        'type of fruit': 'peaches',\n",
    "        'quantity received': 100,\n",
    "        'ripeness rating': 1\n",
    "    }\n",
    ")\n",
    "\n"
   ]
  },
  {
   "cell_type": "code",
   "execution_count": 3,
   "metadata": {},
   "outputs": [
    {
     "name": "stdout",
     "output_type": "stream",
     "text": [
      "{'_id': ObjectId('5cae79584d52b0f879dd6dcb'), 'vendor name': 'Cedarwood Farms', 'type of fruit': 'peaches', 'quantity received': 100, 'ripeness rating': 1}\n",
      "{'_id': ObjectId('5cae798f4d52b0f879dd6dcd'), 'vendor name': 'Seasonal Harmony', 'type of fruit': 'honeycrisp apples', 'quantity received': 300, 'ripeness rating': 2}\n",
      "{'_id': ObjectId('5cae7d874d52b0f879dd6dce'), 'vendor name': 'Cuties', 'type of fruit': 'Mandarin', 'quantity received': 50, 'ripeness rating': 2}\n",
      "{'_id': ObjectId('5cae7dac4d52b0f879dd6dcf'), 'vendor name': 'Dole', 'type of fruit': 'pineapple', 'quantity received': 50, 'ripeness rating': 1}\n",
      "{'_id': ObjectId('5cae7dcb4d52b0f879dd6dd0'), 'vendor name': 'Arrow Root Farm', 'type of fruit': 'Dates', 'quantity received': 500, 'ripeness rating': 3}\n",
      "{'_id': ObjectId('5cae7def4d52b0f879dd6dd1'), 'vendor name': 'Bunny Tail Farms', 'type of fruit': 'kiwi', 'quantity received': 45, 'ripeness rating': 1}\n",
      "{'_id': ObjectId('5cae7e304d52b0f879dd6dd2'), 'vendor name': 'Chiquita', 'type of fruit': 'Bananas', 'quantity received': 125, 'ripeness rating': 1}\n"
     ]
    }
   ],
   "source": [
    "# Iterate through each document in the collection\n",
    "for fruit in fruits:\n",
    "    print(fruit)"
   ]
  },
  {
   "cell_type": "code",
   "execution_count": 14,
   "metadata": {},
   "outputs": [
    {
     "data": {
      "text/plain": [
       "<pymongo.results.InsertOneResult at 0x11043d648>"
      ]
     },
     "execution_count": 14,
     "metadata": {},
     "output_type": "execute_result"
    }
   ],
   "source": [
    "db.fruits.insert_one(\n",
    "    {\n",
    "        'vendor name': 'Seasonal Harmony',\n",
    "        'type of fruit': 'honeycrisp apples',\n",
    "        'quantity received': 300,\n",
    "        'ripeness rating': 2\n",
    "    }\n",
    ")"
   ]
  },
  {
   "cell_type": "code",
   "execution_count": 17,
   "metadata": {},
   "outputs": [
    {
     "name": "stdout",
     "output_type": "stream",
     "text": [
      "{'_id': ObjectId('5cae78be4d52b0f879dd6dca'), 'vendor name': 'Cedarwood Farms', 'type of fruit': 'peaches', 'quantity received': 100, 'ripeness rating': 1}\n",
      "{'_id': ObjectId('5cae79584d52b0f879dd6dcb'), 'vendor name': 'Cedarwood Farms', 'type of fruit': 'peaches', 'quantity received': 100, 'ripeness rating': 1}\n",
      "{'_id': ObjectId('5cae79584d52b0f879dd6dcc'), 'vendor name': 'Seasonal Harmony', 'type of fruit': 'honeycrisp apples', 'quantity received': 300, 'ripeness rating': 2}\n",
      "{'_id': ObjectId('5cae798f4d52b0f879dd6dcd'), 'vendor name': 'Seasonal Harmony', 'type of fruit': 'honeycrisp apples', 'quantity received': 300, 'ripeness rating': 2}\n"
     ]
    }
   ],
   "source": [
    "for fruit in fruits:\n",
    "    print(fruit)"
   ]
  },
  {
   "cell_type": "code",
   "execution_count": 6,
   "metadata": {},
   "outputs": [],
   "source": [
    "# Needed to redefine fruits to get the loop with the print to work for some reason (it worked after I entered)\n",
    "# the 1st record, but not the second record until I reran this line\n",
    "fruits = db.fruits.find()\n",
    "\n",
    "#then I had duplicate entries, so delete duplicates:\n",
    "\n",
    "# db.fruits.delete_one(\n",
    "#     {\n",
    "#         'vendor name': 'Cedarwood Farms'\n",
    "        \n",
    "#     }\n",
    "# )\n",
    "# db.fruits.delete_one(\n",
    "#     {\n",
    "#         'vendor name': 'Seasonal Harmony'\n",
    "        \n",
    "#     }\n",
    "# )"
   ]
  },
  {
   "cell_type": "code",
   "execution_count": 7,
   "metadata": {},
   "outputs": [
    {
     "name": "stdout",
     "output_type": "stream",
     "text": [
      "{'_id': ObjectId('5cae79584d52b0f879dd6dcb'), 'vendor name': 'Cedarwood Farms', 'type of fruit': 'peaches', 'quantity received': 100, 'ripeness rating': 1}\n",
      "{'_id': ObjectId('5cae798f4d52b0f879dd6dcd'), 'vendor name': 'Seasonal Harmony', 'type of fruit': 'honeycrisp apples', 'quantity received': 300, 'ripeness rating': 2}\n",
      "{'_id': ObjectId('5cae7d874d52b0f879dd6dce'), 'vendor name': 'Cuties', 'type of fruit': 'Mandarin', 'quantity received': 50, 'ripeness rating': 2}\n",
      "{'_id': ObjectId('5cae7dac4d52b0f879dd6dcf'), 'vendor name': 'Dole', 'type of fruit': 'pineapple', 'quantity received': 50, 'ripeness rating': 1}\n",
      "{'_id': ObjectId('5cae7dcb4d52b0f879dd6dd0'), 'vendor name': 'Arrow Root Farm', 'type of fruit': 'Dates', 'quantity received': 500, 'ripeness rating': 3}\n",
      "{'_id': ObjectId('5cae7def4d52b0f879dd6dd1'), 'vendor name': 'Bunny Tail Farms', 'type of fruit': 'kiwi', 'quantity received': 45, 'ripeness rating': 1}\n",
      "{'_id': ObjectId('5cae7e304d52b0f879dd6dd2'), 'vendor name': 'Chiquita', 'type of fruit': 'Bananas', 'quantity received': 125, 'ripeness rating': 1}\n"
     ]
    }
   ],
   "source": [
    "for fruit in fruits:\n",
    "    print(fruit)\n"
   ]
  },
  {
   "cell_type": "code",
   "execution_count": 18,
   "metadata": {},
   "outputs": [
    {
     "name": "stdout",
     "output_type": "stream",
     "text": [
      "What is the name of the produce vendor? Sweet treat\n",
      "What type of fruit did they supply? apples\n",
      "How many pieces of fruit? 44\n",
      "Ripeness scale?  (1 for unripe, 2 for ripe, 3 for over-ripe) 2\n",
      "Keep going (Y or N)? n\n",
      "{'_id': ObjectId('5cae79584d52b0f879dd6dcb'), 'vendor name': 'Cedarwood Farms', 'type of fruit': 'peaches', 'quantity received': 100, 'ripeness rating': 1}\n",
      "{'_id': ObjectId('5cae798f4d52b0f879dd6dcd'), 'vendor name': 'Seasonal Harmony', 'type of fruit': 'honeycrisp apples', 'quantity received': 300, 'ripeness rating': 2}\n",
      "{'_id': ObjectId('5cae7d874d52b0f879dd6dce'), 'vendor name': 'Cuties', 'type of fruit': 'Mandarin', 'quantity received': 50, 'ripeness rating': 2}\n",
      "{'_id': ObjectId('5cae7dac4d52b0f879dd6dcf'), 'vendor name': 'Dole', 'type of fruit': 'pineapple', 'quantity received': 50, 'ripeness rating': 1}\n",
      "{'_id': ObjectId('5cae7dcb4d52b0f879dd6dd0'), 'vendor name': 'Arrow Root Farm', 'type of fruit': 'Dates', 'quantity received': 500, 'ripeness rating': 3}\n",
      "{'_id': ObjectId('5cae7def4d52b0f879dd6dd1'), 'vendor name': 'Bunny Tail Farms', 'type of fruit': 'kiwi', 'quantity received': 45, 'ripeness rating': 1}\n",
      "{'_id': ObjectId('5cae7e304d52b0f879dd6dd2'), 'vendor name': 'Chiquita', 'type of fruit': 'Bananas', 'quantity received': 125, 'ripeness rating': 1}\n",
      "{'_id': ObjectId('5cc36f6d4d52b068bc1fae91'), 'vendor name': 'AgriBerry', 'type of fruit': 'raspberries', 'quantity received': 400, 'ripeness rating': 2}\n",
      "{'_id': ObjectId('5cc36f9f4d52b068bc1fae92'), 'vendor name': 'Sungold', 'type of fruit': 'cherry tomatoes', 'quantity received': 300, 'ripeness rating': 1}\n",
      "{'_id': ObjectId('5cc370b44d52b068bc1fae93'), 'vendor name': 'Uncle Bobs', 'type of fruit': 'cucumbers', 'quantity received': 40, 'ripeness rating': 2}\n",
      "{'_id': ObjectId('5cc370e14d52b068bc1fae94'), 'vendor name': \"Amy's Organics\", 'type of fruit': 'heirloom tomatoes', 'quantity received': 30, 'ripeness rating': 3}\n",
      "{'_id': ObjectId('5cc371154d52b068bc1fae95'), 'vendor name': 'Forkland Farms', 'type of fruit': 'peaches', 'quantity received': 25, 'ripeness rating': 2}\n",
      "{'_id': ObjectId('5cc3712e4d52b068bc1fae96'), 'vendor name': 'Mountain Mist', 'type of fruit': 'apples', 'quantity received': 50, 'ripeness rating': 1}\n",
      "{'_id': ObjectId('5cc3716b4d52b068bc1fae97'), 'vendor name': 'Shale Farm', 'type of fruit': 'squash', 'quantity received': 43, 'ripeness rating': 2}\n",
      "{'_id': ObjectId('5cc3717b4d52b068bc1fae98'), 'vendor name': 'Westover Creek', 'type of fruit': 'pears', 'quantity received': 67, 'ripeness rating': 2}\n",
      "{'_id': ObjectId('5cc3725a4d52b068bc1fae99'), 'vendor name': 'Johnny Appleseed', 'type of fruit': 'apples', 'quantity received': 43, 'ripeness rating': 2, 'date': datetime.datetime(2019, 4, 26, 21, 4, 26, 70000)}\n",
      "{'_id': ObjectId('5cc372744d52b068bc1fae9a'), 'vendor name': 'Blue Bell Farms', 'type of fruit': 'plums', 'quantity received': 23, 'ripeness rating': 1, 'date': datetime.datetime(2019, 4, 26, 21, 4, 52, 909000)}\n",
      "{'_id': ObjectId('5cc3828a4d52b068bc1fae9b'), 'vendor name': 'Sweet treat', 'type of fruit': 'apples', 'quantity received': 44, 'ripeness rating': 2, 'date': datetime.datetime(2019, 4, 26, 22, 13, 30, 392000)}\n"
     ]
    }
   ],
   "source": [
    "# Build a Python script that asks the user for the above information, \n",
    "# then inserts a document into a MongoDB database\n",
    "# Bonus: It would be good to modify the app so that when the record is entered, \n",
    "# the current date and time is automatically inserted into the document (see datetime addition)\n",
    "import datetime\n",
    "\n",
    "keepGoing = True\n",
    "kg = \"\"\n",
    "\n",
    "while keepGoing:\n",
    "    vendor = input(\"What is the name of the produce vendor? \")\n",
    "    fruit = input(\"What type of fruit did they supply? \")\n",
    "    quantity = int(input(\"How many pieces of fruit? \"))\n",
    "    ripeness = int(input(\"Ripeness scale?  (1 for unripe, 2 for ripe, 3 for over-ripe) \"))\n",
    "    \n",
    "    db.fruits.insert_one(\n",
    "    {\n",
    "        'vendor name': vendor,\n",
    "        'type of fruit': fruit,\n",
    "        'quantity received': quantity,\n",
    "        'ripeness rating': ripeness,\n",
    "        'date' : datetime.datetime.utcnow()\n",
    "    })\n",
    "    \n",
    "    kg = input(\"Keep going (Y or N)? \")\n",
    "    if kg == 'Y' or kg == 'y':\n",
    "        keepGoing = True\n",
    "    else:\n",
    "        keepGoing = False\n",
    "\n",
    "fruits = db.fruits.find()\n",
    "for fruit in fruits:\n",
    "    print(fruit)\n",
    "    "
   ]
  },
  {
   "cell_type": "code",
   "execution_count": 16,
   "metadata": {},
   "outputs": [
    {
     "name": "stdout",
     "output_type": "stream",
     "text": [
      "{'_id': ObjectId('5cae79584d52b0f879dd6dcb'), 'vendor name': 'Cedarwood Farms', 'type of fruit': 'peaches', 'quantity received': 100, 'ripeness rating': 1}\n",
      "{'_id': ObjectId('5cae798f4d52b0f879dd6dcd'), 'vendor name': 'Seasonal Harmony', 'type of fruit': 'honeycrisp apples', 'quantity received': 300, 'ripeness rating': 2}\n",
      "{'_id': ObjectId('5cae7d874d52b0f879dd6dce'), 'vendor name': 'Cuties', 'type of fruit': 'Mandarin', 'quantity received': 50, 'ripeness rating': 2}\n",
      "{'_id': ObjectId('5cae7dac4d52b0f879dd6dcf'), 'vendor name': 'Dole', 'type of fruit': 'pineapple', 'quantity received': 50, 'ripeness rating': 1}\n",
      "{'_id': ObjectId('5cae7dcb4d52b0f879dd6dd0'), 'vendor name': 'Arrow Root Farm', 'type of fruit': 'Dates', 'quantity received': 500, 'ripeness rating': 3}\n",
      "{'_id': ObjectId('5cae7def4d52b0f879dd6dd1'), 'vendor name': 'Bunny Tail Farms', 'type of fruit': 'kiwi', 'quantity received': 45, 'ripeness rating': 1}\n",
      "{'_id': ObjectId('5cae7e304d52b0f879dd6dd2'), 'vendor name': 'Chiquita', 'type of fruit': 'Bananas', 'quantity received': 125, 'ripeness rating': 1}\n",
      "{'_id': ObjectId('5cc36f6d4d52b068bc1fae91'), 'vendor name': 'AgriBerry', 'type of fruit': 'raspberries', 'quantity received': 400, 'ripeness rating': 2}\n",
      "{'_id': ObjectId('5cc36f9f4d52b068bc1fae92'), 'vendor name': 'Sungold', 'type of fruit': 'cherry tomatoes', 'quantity received': 300, 'ripeness rating': 1}\n",
      "{'_id': ObjectId('5cc370b44d52b068bc1fae93'), 'vendor name': 'Uncle Bobs', 'type of fruit': 'cucumbers', 'quantity received': 40, 'ripeness rating': 2}\n",
      "{'_id': ObjectId('5cc370e14d52b068bc1fae94'), 'vendor name': \"Amy's Organics\", 'type of fruit': 'heirloom tomatoes', 'quantity received': 30, 'ripeness rating': 3}\n",
      "{'_id': ObjectId('5cc371154d52b068bc1fae95'), 'vendor name': 'Forkland Farms', 'type of fruit': 'peaches', 'quantity received': 25, 'ripeness rating': 2}\n",
      "{'_id': ObjectId('5cc3712e4d52b068bc1fae96'), 'vendor name': 'Mountain Mist', 'type of fruit': 'apples', 'quantity received': 50, 'ripeness rating': 1}\n",
      "{'_id': ObjectId('5cc3716b4d52b068bc1fae97'), 'vendor name': 'Shale Farm', 'type of fruit': 'squash', 'quantity received': 43, 'ripeness rating': 2}\n",
      "{'_id': ObjectId('5cc3717b4d52b068bc1fae98'), 'vendor name': 'Westover Creek', 'type of fruit': 'pears', 'quantity received': 67, 'ripeness rating': 2}\n",
      "{'_id': ObjectId('5cc3725a4d52b068bc1fae99'), 'vendor name': 'Johnny Appleseed', 'type of fruit': 'apples', 'quantity received': 43, 'ripeness rating': 2, 'date': datetime.datetime(2019, 4, 26, 21, 4, 26, 70000)}\n",
      "{'_id': ObjectId('5cc372744d52b068bc1fae9a'), 'vendor name': 'Blue Bell Farms', 'type of fruit': 'plums', 'quantity received': 23, 'ripeness rating': 1, 'date': datetime.datetime(2019, 4, 26, 21, 4, 52, 909000)}\n"
     ]
    }
   ],
   "source": [
    "fruits = db.fruits.find()\n",
    "for fruit in fruits:\n",
    "    print(fruit)"
   ]
  },
  {
   "cell_type": "code",
   "execution_count": null,
   "metadata": {},
   "outputs": [],
   "source": []
  }
 ],
 "metadata": {
  "kernelspec": {
   "display_name": "Python 3",
   "language": "python",
   "name": "python3"
  },
  "language_info": {
   "codemirror_mode": {
    "name": "ipython",
    "version": 3
   },
   "file_extension": ".py",
   "mimetype": "text/x-python",
   "name": "python",
   "nbconvert_exporter": "python",
   "pygments_lexer": "ipython3",
   "version": "3.7.1"
  }
 },
 "nbformat": 4,
 "nbformat_minor": 2
}
