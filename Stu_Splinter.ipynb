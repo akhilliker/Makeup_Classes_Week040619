{
 "cells": [
  {
   "cell_type": "code",
   "execution_count": 1,
   "metadata": {},
   "outputs": [],
   "source": [
    "from splinter import Browser\n",
    "from bs4 import BeautifulSoup"
   ]
  },
  {
   "cell_type": "markdown",
   "metadata": {},
   "source": [
    "# Mac Users"
   ]
  },
  {
   "cell_type": "code",
   "execution_count": 2,
   "metadata": {},
   "outputs": [
    {
     "name": "stdout",
     "output_type": "stream",
     "text": [
      "/usr/local/bin/chromedriver\r\n"
     ]
    }
   ],
   "source": [
    "# https://splinter.readthedocs.io/en/latest/drivers/chrome.html\n",
    "!which chromedriver"
   ]
  },
  {
   "cell_type": "code",
   "execution_count": 3,
   "metadata": {},
   "outputs": [],
   "source": [
    "executable_path = {'executable_path': '/usr/local/bin/chromedriver'}\n",
    "browser = Browser('chrome', **executable_path, headless=False)"
   ]
  },
  {
   "cell_type": "markdown",
   "metadata": {},
   "source": [
    "# Windows Users"
   ]
  },
  {
   "cell_type": "code",
   "execution_count": null,
   "metadata": {
    "collapsed": true
   },
   "outputs": [],
   "source": [
    "# executable_path = {'executable_path': 'chromedriver.exe'}\n",
    "# browser = Browser('chrome', **executable_path, headless=False)"
   ]
  },
  {
   "cell_type": "code",
   "execution_count": 4,
   "metadata": {},
   "outputs": [],
   "source": [
    "# Go to http://books.toscrape.com/\n",
    "url = 'http://books.toscrape.com/'\n",
    "browser.visit(url)"
   ]
  },
  {
   "cell_type": "code",
   "execution_count": 5,
   "metadata": {},
   "outputs": [],
   "source": [
    "# # testing code\n",
    "# html = browser.html\n",
    "# soup = BeautifulSoup(html, 'html.parser')"
   ]
  },
  {
   "cell_type": "code",
   "execution_count": 12,
   "metadata": {},
   "outputs": [
    {
     "data": {
      "text/plain": [
       "[<h3><a href=\"catalogue/a-light-in-the-attic_1000/index.html\" title=\"A Light in the Attic\">A Light in the ...</a></h3>,\n",
       " <h3><a href=\"catalogue/tipping-the-velvet_999/index.html\" title=\"Tipping the Velvet\">Tipping the Velvet</a></h3>,\n",
       " <h3><a href=\"catalogue/soumission_998/index.html\" title=\"Soumission\">Soumission</a></h3>,\n",
       " <h3><a href=\"catalogue/sharp-objects_997/index.html\" title=\"Sharp Objects\">Sharp Objects</a></h3>,\n",
       " <h3><a href=\"catalogue/sapiens-a-brief-history-of-humankind_996/index.html\" title=\"Sapiens: A Brief History of Humankind\">Sapiens: A Brief History ...</a></h3>,\n",
       " <h3><a href=\"catalogue/the-requiem-red_995/index.html\" title=\"The Requiem Red\">The Requiem Red</a></h3>,\n",
       " <h3><a href=\"catalogue/the-dirty-little-secrets-of-getting-your-dream-job_994/index.html\" title=\"The Dirty Little Secrets of Getting Your Dream Job\">The Dirty Little Secrets ...</a></h3>,\n",
       " <h3><a href=\"catalogue/the-coming-woman-a-novel-based-on-the-life-of-the-infamous-feminist-victoria-woodhull_993/index.html\" title=\"The Coming Woman: A Novel Based on the Life of the Infamous Feminist, Victoria Woodhull\">The Coming Woman: A ...</a></h3>,\n",
       " <h3><a href=\"catalogue/the-boys-in-the-boat-nine-americans-and-their-epic-quest-for-gold-at-the-1936-berlin-olympics_992/index.html\" title=\"The Boys in the Boat: Nine Americans and Their Epic Quest for Gold at the 1936 Berlin Olympics\">The Boys in the ...</a></h3>,\n",
       " <h3><a href=\"catalogue/the-black-maria_991/index.html\" title=\"The Black Maria\">The Black Maria</a></h3>,\n",
       " <h3><a href=\"catalogue/starving-hearts-triangular-trade-trilogy-1_990/index.html\" title=\"Starving Hearts (Triangular Trade Trilogy, #1)\">Starving Hearts (Triangular Trade ...</a></h3>,\n",
       " <h3><a href=\"catalogue/shakespeares-sonnets_989/index.html\" title=\"Shakespeare's Sonnets\">Shakespeare's Sonnets</a></h3>,\n",
       " <h3><a href=\"catalogue/set-me-free_988/index.html\" title=\"Set Me Free\">Set Me Free</a></h3>,\n",
       " <h3><a href=\"catalogue/scott-pilgrims-precious-little-life-scott-pilgrim-1_987/index.html\" title=\"Scott Pilgrim's Precious Little Life (Scott Pilgrim #1)\">Scott Pilgrim's Precious Little ...</a></h3>,\n",
       " <h3><a href=\"catalogue/rip-it-up-and-start-again_986/index.html\" title=\"Rip it Up and Start Again\">Rip it Up and ...</a></h3>,\n",
       " <h3><a href=\"catalogue/our-band-could-be-your-life-scenes-from-the-american-indie-underground-1981-1991_985/index.html\" title=\"Our Band Could Be Your Life: Scenes from the American Indie Underground, 1981-1991\">Our Band Could Be ...</a></h3>,\n",
       " <h3><a href=\"catalogue/olio_984/index.html\" title=\"Olio\">Olio</a></h3>,\n",
       " <h3><a href=\"catalogue/mesaerion-the-best-science-fiction-stories-1800-1849_983/index.html\" title=\"Mesaerion: The Best Science Fiction Stories 1800-1849\">Mesaerion: The Best Science ...</a></h3>,\n",
       " <h3><a href=\"catalogue/libertarianism-for-beginners_982/index.html\" title=\"Libertarianism for Beginners\">Libertarianism for Beginners</a></h3>,\n",
       " <h3><a href=\"catalogue/its-only-the-himalayas_981/index.html\" title=\"It's Only the Himalayas\">It's Only the Himalayas</a></h3>]"
      ]
     },
     "execution_count": 12,
     "metadata": {},
     "output_type": "execute_result"
    }
   ],
   "source": [
    "# # testing code\n",
    "# title = soup.find_all('h3')\n",
    "# title"
   ]
  },
  {
   "cell_type": "code",
   "execution_count": 16,
   "metadata": {
    "collapsed": true
   },
   "outputs": [
    {
     "name": "stdout",
     "output_type": "stream",
     "text": [
      "page: 0 -------------\n",
      "A Light in the Attic\n",
      "http://books.toscrape.com/catalogue/a-light-in-the-attic_1000/index.html\n",
      "page: 0 -------------\n",
      "Tipping the Velvet\n",
      "http://books.toscrape.com/catalogue/tipping-the-velvet_999/index.html\n",
      "page: 0 -------------\n",
      "Soumission\n",
      "http://books.toscrape.com/catalogue/soumission_998/index.html\n",
      "page: 0 -------------\n",
      "Sharp Objects\n",
      "http://books.toscrape.com/catalogue/sharp-objects_997/index.html\n",
      "page: 0 -------------\n",
      "Sapiens: A Brief History of Humankind\n",
      "http://books.toscrape.com/catalogue/sapiens-a-brief-history-of-humankind_996/index.html\n",
      "page: 0 -------------\n",
      "The Requiem Red\n",
      "http://books.toscrape.com/catalogue/the-requiem-red_995/index.html\n",
      "page: 0 -------------\n",
      "The Dirty Little Secrets of Getting Your Dream Job\n",
      "http://books.toscrape.com/catalogue/the-dirty-little-secrets-of-getting-your-dream-job_994/index.html\n",
      "page: 0 -------------\n",
      "The Coming Woman: A Novel Based on the Life of the Infamous Feminist, Victoria Woodhull\n",
      "http://books.toscrape.com/catalogue/the-coming-woman-a-novel-based-on-the-life-of-the-infamous-feminist-victoria-woodhull_993/index.html\n",
      "page: 0 -------------\n",
      "The Boys in the Boat: Nine Americans and Their Epic Quest for Gold at the 1936 Berlin Olympics\n",
      "http://books.toscrape.com/catalogue/the-boys-in-the-boat-nine-americans-and-their-epic-quest-for-gold-at-the-1936-berlin-olympics_992/index.html\n",
      "page: 0 -------------\n",
      "The Black Maria\n",
      "http://books.toscrape.com/catalogue/the-black-maria_991/index.html\n",
      "page: 0 -------------\n",
      "Starving Hearts (Triangular Trade Trilogy, #1)\n",
      "http://books.toscrape.com/catalogue/starving-hearts-triangular-trade-trilogy-1_990/index.html\n",
      "page: 0 -------------\n",
      "Shakespeare's Sonnets\n",
      "http://books.toscrape.com/catalogue/shakespeares-sonnets_989/index.html\n",
      "page: 0 -------------\n",
      "Set Me Free\n",
      "http://books.toscrape.com/catalogue/set-me-free_988/index.html\n",
      "page: 0 -------------\n",
      "Scott Pilgrim's Precious Little Life (Scott Pilgrim #1)\n",
      "http://books.toscrape.com/catalogue/scott-pilgrims-precious-little-life-scott-pilgrim-1_987/index.html\n",
      "page: 0 -------------\n",
      "Rip it Up and Start Again\n",
      "http://books.toscrape.com/catalogue/rip-it-up-and-start-again_986/index.html\n",
      "page: 0 -------------\n",
      "Our Band Could Be Your Life: Scenes from the American Indie Underground, 1981-1991\n",
      "http://books.toscrape.com/catalogue/our-band-could-be-your-life-scenes-from-the-american-indie-underground-1981-1991_985/index.html\n",
      "page: 0 -------------\n",
      "Olio\n",
      "http://books.toscrape.com/catalogue/olio_984/index.html\n",
      "page: 0 -------------\n",
      "Mesaerion: The Best Science Fiction Stories 1800-1849\n",
      "http://books.toscrape.com/catalogue/mesaerion-the-best-science-fiction-stories-1800-1849_983/index.html\n",
      "page: 0 -------------\n",
      "Libertarianism for Beginners\n",
      "http://books.toscrape.com/catalogue/libertarianism-for-beginners_982/index.html\n",
      "page: 0 -------------\n",
      "It's Only the Himalayas\n",
      "http://books.toscrape.com/catalogue/its-only-the-himalayas_981/index.html\n",
      "page: 1 -------------\n",
      "Mothering Sunday\n",
      "http://books.toscrape.com/mothering-sunday_600/index.html\n",
      "page: 1 -------------\n",
      "Mother, Can You Not?\n",
      "http://books.toscrape.com/mother-can-you-not_599/index.html\n",
      "page: 1 -------------\n",
      "M Train\n",
      "http://books.toscrape.com/m-train_598/index.html\n",
      "page: 1 -------------\n",
      "Lilac Girls\n",
      "http://books.toscrape.com/lilac-girls_597/index.html\n",
      "page: 1 -------------\n",
      "Lies and Other Acts of Love\n",
      "http://books.toscrape.com/lies-and-other-acts-of-love_596/index.html\n",
      "page: 1 -------------\n",
      "Lab Girl\n",
      "http://books.toscrape.com/lab-girl_595/index.html\n",
      "page: 1 -------------\n",
      "Keep Me Posted\n",
      "http://books.toscrape.com/keep-me-posted_594/index.html\n",
      "page: 1 -------------\n",
      "It Didn't Start with You: How Inherited Family Trauma Shapes Who We Are and How to End the Cycle\n",
      "http://books.toscrape.com/it-didnt-start-with-you-how-inherited-family-trauma-shapes-who-we-are-and-how-to-end-the-cycle_593/index.html\n",
      "page: 1 -------------\n",
      "Grey (Fifty Shades #4)\n",
      "http://books.toscrape.com/grey-fifty-shades-4_592/index.html\n",
      "page: 1 -------------\n",
      "Exit, Pursued by a Bear\n",
      "http://books.toscrape.com/exit-pursued-by-a-bear_591/index.html\n",
      "page: 1 -------------\n",
      "Daredevils\n",
      "http://books.toscrape.com/daredevils_590/index.html\n",
      "page: 1 -------------\n",
      "Cravings: Recipes for What You Want to Eat\n",
      "http://books.toscrape.com/cravings-recipes-for-what-you-want-to-eat_589/index.html\n",
      "page: 1 -------------\n",
      "Born for This: How to Find the Work You Were Meant to Do\n",
      "http://books.toscrape.com/born-for-this-how-to-find-the-work-you-were-meant-to-do_588/index.html\n",
      "page: 1 -------------\n",
      "Arena\n",
      "http://books.toscrape.com/arena_587/index.html\n",
      "page: 1 -------------\n",
      "Adultery\n",
      "http://books.toscrape.com/adultery_586/index.html\n",
      "page: 1 -------------\n",
      "A Mother's Reckoning: Living in the Aftermath of Tragedy\n",
      "http://books.toscrape.com/a-mothers-reckoning-living-in-the-aftermath-of-tragedy_585/index.html\n",
      "page: 1 -------------\n",
      "A Gentleman's Position (Society of Gentlemen #3)\n",
      "http://books.toscrape.com/a-gentlemans-position-society-of-gentlemen-3_584/index.html\n",
      "page: 1 -------------\n",
      "11/22/63\n",
      "http://books.toscrape.com/112263_583/index.html\n",
      "page: 1 -------------\n",
      "10% Happier: How I Tamed the Voice in My Head, Reduced Stress Without Losing My Edge, and Found Self-Help That Actually Works\n",
      "http://books.toscrape.com/10-happier-how-i-tamed-the-voice-in-my-head-reduced-stress-without-losing-my-edge-and-found-self-help-that-actually-works_582/index.html\n",
      "page: 1 -------------\n",
      "10-Day Green Smoothie Cleanse: Lose Up to 15 Pounds in 10 Days!\n",
      "http://books.toscrape.com/10-day-green-smoothie-cleanse-lose-up-to-15-pounds-in-10-days_581/index.html\n",
      "page: 2 -------------\n",
      "Notes from a Small Island (Notes From a Small Island #1)\n",
      "http://books.toscrape.com/notes-from-a-small-island-notes-from-a-small-island-1_200/index.html\n",
      "page: 2 -------------\n",
      "Night (The Night Trilogy #1)\n",
      "http://books.toscrape.com/night-the-night-trilogy-1_199/index.html\n",
      "page: 2 -------------\n",
      "Neither Here nor There: Travels in Europe\n",
      "http://books.toscrape.com/neither-here-nor-there-travels-in-europe_198/index.html\n",
      "page: 2 -------------\n",
      "Naked\n",
      "http://books.toscrape.com/naked_197/index.html\n",
      "page: 2 -------------\n",
      "Morning Star (Red Rising #3)\n",
      "http://books.toscrape.com/morning-star-red-rising-3_196/index.html\n",
      "page: 2 -------------\n",
      "Miracles from Heaven: A Little Girl, Her Journey to Heaven, and Her Amazing Story of Healing\n",
      "http://books.toscrape.com/miracles-from-heaven-a-little-girl-her-journey-to-heaven-and-her-amazing-story-of-healing_195/index.html\n",
      "page: 2 -------------\n",
      "Midnight Riot (Peter Grant/ Rivers of London - books #1)\n",
      "http://books.toscrape.com/midnight-riot-peter-grant-rivers-of-london-books-1_194/index.html\n",
      "page: 2 -------------\n",
      "Me Talk Pretty One Day\n",
      "http://books.toscrape.com/me-talk-pretty-one-day_193/index.html\n",
      "page: 2 -------------\n",
      "Manuscript Found in Accra\n",
      "http://books.toscrape.com/manuscript-found-in-accra_192/index.html\n",
      "page: 2 -------------\n",
      "Lust & Wonder\n",
      "http://books.toscrape.com/lust-wonder_191/index.html\n"
     ]
    },
    {
     "ename": "ElementDoesNotExist",
     "evalue": "no elements could be found with link by partial text \"next\"",
     "output_type": "error",
     "traceback": [
      "\u001b[0;31m---------------------------------------------------------------------------\u001b[0m",
      "\u001b[0;31mIndexError\u001b[0m                                Traceback (most recent call last)",
      "\u001b[0;32m/anaconda3/lib/python3.7/site-packages/splinter/element_list.py\u001b[0m in \u001b[0;36m__getitem__\u001b[0;34m(self, index)\u001b[0m\n\u001b[1;32m     39\u001b[0m         \u001b[0;32mtry\u001b[0m\u001b[0;34m:\u001b[0m\u001b[0;34m\u001b[0m\u001b[0;34m\u001b[0m\u001b[0m\n\u001b[0;32m---> 40\u001b[0;31m             \u001b[0;32mreturn\u001b[0m \u001b[0msuper\u001b[0m\u001b[0;34m(\u001b[0m\u001b[0mElementList\u001b[0m\u001b[0;34m,\u001b[0m \u001b[0mself\u001b[0m\u001b[0;34m)\u001b[0m\u001b[0;34m.\u001b[0m\u001b[0m__getitem__\u001b[0m\u001b[0;34m(\u001b[0m\u001b[0mindex\u001b[0m\u001b[0;34m)\u001b[0m\u001b[0;34m\u001b[0m\u001b[0;34m\u001b[0m\u001b[0m\n\u001b[0m\u001b[1;32m     41\u001b[0m         \u001b[0;32mexcept\u001b[0m \u001b[0mIndexError\u001b[0m\u001b[0;34m:\u001b[0m\u001b[0;34m\u001b[0m\u001b[0;34m\u001b[0m\u001b[0m\n",
      "\u001b[0;31mIndexError\u001b[0m: list index out of range",
      "\nDuring handling of the above exception, another exception occurred:\n",
      "\u001b[0;31mElementDoesNotExist\u001b[0m                       Traceback (most recent call last)",
      "\u001b[0;32m<ipython-input-16-e9f1943e7472>\u001b[0m in \u001b[0;36m<module>\u001b[0;34m\u001b[0m\n\u001b[1;32m     15\u001b[0m         \u001b[0mprint\u001b[0m\u001b[0;34m(\u001b[0m\u001b[0;34m'http://books.toscrape.com/'\u001b[0m \u001b[0;34m+\u001b[0m \u001b[0mhref\u001b[0m\u001b[0;34m)\u001b[0m\u001b[0;34m\u001b[0m\u001b[0;34m\u001b[0m\u001b[0m\n\u001b[1;32m     16\u001b[0m \u001b[0;34m\u001b[0m\u001b[0m\n\u001b[0;32m---> 17\u001b[0;31m         \u001b[0mbrowser\u001b[0m\u001b[0;34m.\u001b[0m\u001b[0mclick_link_by_partial_text\u001b[0m\u001b[0;34m(\u001b[0m\u001b[0;34m'next'\u001b[0m\u001b[0;34m)\u001b[0m\u001b[0;34m\u001b[0m\u001b[0;34m\u001b[0m\u001b[0m\n\u001b[0m\u001b[1;32m     18\u001b[0m \u001b[0;34m\u001b[0m\u001b[0m\n\u001b[1;32m     19\u001b[0m \u001b[0;34m\u001b[0m\u001b[0m\n",
      "\u001b[0;32m/anaconda3/lib/python3.7/site-packages/splinter/driver/__init__.py\u001b[0m in \u001b[0;36mclick_link_by_partial_text\u001b[0;34m(self, partial_text)\u001b[0m\n\u001b[1;32m    394\u001b[0m         \u001b[0mClicks\u001b[0m \u001b[0;32min\u001b[0m \u001b[0ma\u001b[0m \u001b[0mlink\u001b[0m \u001b[0mby\u001b[0m \u001b[0mpartial\u001b[0m \u001b[0mcontent\u001b[0m \u001b[0mof\u001b[0m \u001b[0mits\u001b[0m \u001b[0mtext\u001b[0m\u001b[0;34m.\u001b[0m\u001b[0;34m\u001b[0m\u001b[0;34m\u001b[0m\u001b[0m\n\u001b[1;32m    395\u001b[0m         \"\"\"\n\u001b[0;32m--> 396\u001b[0;31m         \u001b[0;32mreturn\u001b[0m \u001b[0mself\u001b[0m\u001b[0;34m.\u001b[0m\u001b[0mfind_link_by_partial_text\u001b[0m\u001b[0;34m(\u001b[0m\u001b[0mpartial_text\u001b[0m\u001b[0;34m)\u001b[0m\u001b[0;34m.\u001b[0m\u001b[0mfirst\u001b[0m\u001b[0;34m.\u001b[0m\u001b[0mclick\u001b[0m\u001b[0;34m(\u001b[0m\u001b[0;34m)\u001b[0m\u001b[0;34m\u001b[0m\u001b[0;34m\u001b[0m\u001b[0m\n\u001b[0m\u001b[1;32m    397\u001b[0m \u001b[0;34m\u001b[0m\u001b[0m\n\u001b[1;32m    398\u001b[0m     \u001b[0;32mdef\u001b[0m \u001b[0mclick_link_by_id\u001b[0m\u001b[0;34m(\u001b[0m\u001b[0mself\u001b[0m\u001b[0;34m,\u001b[0m \u001b[0mid\u001b[0m\u001b[0;34m)\u001b[0m\u001b[0;34m:\u001b[0m\u001b[0;34m\u001b[0m\u001b[0;34m\u001b[0m\u001b[0m\n",
      "\u001b[0;32m/anaconda3/lib/python3.7/site-packages/splinter/element_list.py\u001b[0m in \u001b[0;36mfirst\u001b[0;34m(self)\u001b[0m\n\u001b[1;32m     53\u001b[0m             \u001b[0;34m>>\u001b[0m\u001b[0;34m>\u001b[0m \u001b[0;32massert\u001b[0m \u001b[0melement_list\u001b[0m\u001b[0;34m[\u001b[0m\u001b[0;36m0\u001b[0m\u001b[0;34m]\u001b[0m \u001b[0;34m==\u001b[0m \u001b[0melement_list\u001b[0m\u001b[0;34m.\u001b[0m\u001b[0mfirst\u001b[0m\u001b[0;34m\u001b[0m\u001b[0;34m\u001b[0m\u001b[0m\n\u001b[1;32m     54\u001b[0m         \"\"\"\n\u001b[0;32m---> 55\u001b[0;31m         \u001b[0;32mreturn\u001b[0m \u001b[0mself\u001b[0m\u001b[0;34m[\u001b[0m\u001b[0;36m0\u001b[0m\u001b[0;34m]\u001b[0m\u001b[0;34m\u001b[0m\u001b[0;34m\u001b[0m\u001b[0m\n\u001b[0m\u001b[1;32m     56\u001b[0m \u001b[0;34m\u001b[0m\u001b[0m\n\u001b[1;32m     57\u001b[0m     \u001b[0;34m@\u001b[0m\u001b[0mproperty\u001b[0m\u001b[0;34m\u001b[0m\u001b[0;34m\u001b[0m\u001b[0m\n",
      "\u001b[0;32m/anaconda3/lib/python3.7/site-packages/splinter/element_list.py\u001b[0m in \u001b[0;36m__getitem__\u001b[0;34m(self, index)\u001b[0m\n\u001b[1;32m     42\u001b[0m             raise ElementDoesNotExist(\n\u001b[1;32m     43\u001b[0m                 u'no elements could be found with {0} \"{1}\"'.format(\n\u001b[0;32m---> 44\u001b[0;31m                     \u001b[0mself\u001b[0m\u001b[0;34m.\u001b[0m\u001b[0mfind_by\u001b[0m\u001b[0;34m,\u001b[0m \u001b[0mself\u001b[0m\u001b[0;34m.\u001b[0m\u001b[0mquery\u001b[0m\u001b[0;34m\u001b[0m\u001b[0;34m\u001b[0m\u001b[0m\n\u001b[0m\u001b[1;32m     45\u001b[0m                 )\n\u001b[1;32m     46\u001b[0m             )\n",
      "\u001b[0;31mElementDoesNotExist\u001b[0m: no elements could be found with link by partial text \"next\""
     ]
    }
   ],
   "source": [
    "# Scrape the titles and the URLs to all books on this fictional online bookstore. Display the results in console.\n",
    "# Just scraped 1st 10 pages. Change range(10) to (50) to get all pages\n",
    "for x in range(10):\n",
    "    #need this in the loop to get a new beautiful soup object on each page\n",
    "    html = browser.html\n",
    "    soup = BeautifulSoup(html, 'html.parser')\n",
    "\n",
    "    titles = soup.find_all('h3')\n",
    "\n",
    "    for title in titles:\n",
    "        url = title.find('a')\n",
    "        href = url['href']\n",
    "        title = url['title']\n",
    "        print('page:', x, '-------------')\n",
    "        print(title)\n",
    "        print('http://books.toscrape.com/' + href)\n",
    "\n",
    "        browser.click_link_by_partial_text('next')\n",
    "\n",
    "\n",
    "# solution altered the loop to show a print message when there are no more \"next\" buttons:\n",
    "#     try:\n",
    "#         browser.click_link_by_partial_text('next')\n",
    "#     except:\n",
    "#         print(\"Scraping Complete\")"
   ]
  },
  {
   "cell_type": "code",
   "execution_count": null,
   "metadata": {},
   "outputs": [],
   "source": [
    "# If you're craving extra challenge, try scraping all books by category. Good luck!\n",
    "\n",
    "# Need to capture and loop through each link in the index\n",
    "# Then use similar code as above to capture the title and urls\n",
    "# Then navigate to the next link in the index\n",
    "# would be nice to capture the genre title\n",
    "# come back to this later and try it. \n",
    "\n",
    "\n"
   ]
  },
  {
   "cell_type": "code",
   "execution_count": null,
   "metadata": {},
   "outputs": [],
   "source": []
  }
 ],
 "metadata": {
  "kernelspec": {
   "display_name": "Python 3",
   "language": "python",
   "name": "python3"
  },
  "language_info": {
   "codemirror_mode": {
    "name": "ipython",
    "version": 3
   },
   "file_extension": ".py",
   "mimetype": "text/x-python",
   "name": "python",
   "nbconvert_exporter": "python",
   "pygments_lexer": "ipython3",
   "version": "3.7.1"
  },
  "varInspector": {
   "cols": {
    "lenName": 16,
    "lenType": 16,
    "lenVar": 40
   },
   "kernels_config": {
    "python": {
     "delete_cmd_postfix": "",
     "delete_cmd_prefix": "del ",
     "library": "var_list.py",
     "varRefreshCmd": "print(var_dic_list())"
    },
    "r": {
     "delete_cmd_postfix": ") ",
     "delete_cmd_prefix": "rm(",
     "library": "var_list.r",
     "varRefreshCmd": "cat(var_dic_list()) "
    }
   },
   "types_to_exclude": [
    "module",
    "function",
    "builtin_function_or_method",
    "instance",
    "_Feature"
   ],
   "window_display": false
  }
 },
 "nbformat": 4,
 "nbformat_minor": 2
}
